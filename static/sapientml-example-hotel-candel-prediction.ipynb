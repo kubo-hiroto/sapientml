{
 "cells": [
  {
   "cell_type": "code",
   "execution_count": null,
   "metadata": {},
   "outputs": [],
   "source": [
    "!pip install -U sapientml"
   ]
  },
  {
   "cell_type": "code",
   "execution_count": null,
   "metadata": {},
   "outputs": [],
   "source": [
    "import pandas as pd\n",
    "from sapientml import SapientML\n",
    "from sapientml.util.logging import setup_logger\n",
    "from sklearn.metrics import f1_score"
   ]
  },
  {
   "cell_type": "code",
   "execution_count": null,
   "metadata": {},
   "outputs": [],
   "source": [
    "\n",
    "train_data = pd.read_csv(\"https://github.com/sapientml/sapientml/files/12617021/train_hotelcancel-prediction.csv\")\n",
    "test_data = pd.read_csv(\"https://github.com/sapientml/sapientml/files/12617033/test_hotelcancel-prediction.csv\")\n",
    "train_data"
   ]
  },
  {
   "cell_type": "code",
   "execution_count": null,
   "metadata": {},
   "outputs": [],
   "source": [
    "y_true = test_data[\"Status\"].reset_index(drop=True)\n",
    "test_data.drop([\"Status\"], axis=1, inplace=True)\n",
    "\n",
    "cls = SapientML([\"Status\"])\n",
    "setup_logger().handlers.clear()\n",
    "\n",
    "cls.fit(train_data, ignore_columns=[\"No.\"])\n",
    "y_pred = cls.predict(test_data)\n",
    "y_pred = y_pred[\"Status\"].rename(\"Status_pred\")\n",
    "\n",
    "pd.concat([y_pred, y_true], axis=1)"
   ]
  },
  {
   "cell_type": "code",
   "execution_count": null,
   "metadata": {},
   "outputs": [],
   "source": [
    "print(f\"F1 score: {f1_score(y_true, y_pred, pos_label='C')}\")"
   ]
  },
  {
   "cell_type": "code",
   "execution_count": null,
   "metadata": {},
   "outputs": [],
   "source": [
    "print(cls.model.files[\"final_script.py\"].decode(\"utf-8\"))"
   ]
  }
 ],
 "metadata": {
  "language_info": {
   "name": "python"
  },
  "orig_nbformat": 4
 },
 "nbformat": 4,
 "nbformat_minor": 2
}
